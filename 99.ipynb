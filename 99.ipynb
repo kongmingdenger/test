{
 "cells": [
  {
   "cell_type": "code",
   "execution_count": null,
   "metadata": {},
   "outputs": [],
   "source": [
    "### 练习题：输入年份判断是不是瑞年"
   ]
  },
  {
   "cell_type": "code",
   "execution_count": 3,
   "metadata": {},
   "outputs": [
    {
     "name": "stdin",
     "output_type": "stream",
     "text": [
      "请输入年份 2002\n"
     ]
    },
    {
     "name": "stdout",
     "output_type": "stream",
     "text": [
      "False\n"
     ]
    }
   ],
   "source": [
    "'''\n",
    "\n",
    "什么是闰年，闰年是怎么定义的：\n",
    "普通闰年:公历年份是4的倍数的，一般是闰年。（如2004年就是闰年）；\n",
    "世纪闰年:公历年份是整百数的，必须是400的倍数才是闰年（如1900年不是世纪闰年，2000年是世纪闰年）；\n",
    "\n",
    "输入年份，如果是闰年输入true，否则输入false\n",
    "\n",
    "time：20191016\n",
    "\n",
    "'''\n",
    "year = int(input('请输入年份'))\n",
    "\n",
    "is_leap = (year%4==0 and year%100!=0) or year%400==0  \n",
    "\n",
    "print(is_leap)\n",
    "\n"
   ]
  },
  {
   "cell_type": "code",
   "execution_count": null,
   "metadata": {},
   "outputs": [],
   "source": [
    "\n"
   ]
  },
  {
   "cell_type": "code",
   "execution_count": null,
   "metadata": {},
   "outputs": [],
   "source": []
  },
  {
   "cell_type": "code",
   "execution_count": 2,
   "metadata": {},
   "outputs": [],
   "source": [
    "###使用 if 、else、 elif 创建分支"
   ]
  },
  {
   "cell_type": "code",
   "execution_count": 5,
   "metadata": {},
   "outputs": [
    {
     "name": "stdin",
     "output_type": "stream",
     "text": [
      "username= abd\n",
      "password= 211\n"
     ]
    },
    {
     "name": "stdout",
     "output_type": "stream",
     "text": [
      "验证失败\n"
     ]
    }
   ],
   "source": [
    "'''\n",
    "身份验证\n",
    "\n",
    "name：kongmingdenger\n",
    "time：20191016\n",
    "\n",
    "'''\n",
    "\n",
    "username=input('username=')\n",
    "password=input('password=')\n",
    "\n",
    "if username=='admin' and password=='123456':\n",
    "   print('验证成功')\n",
    "else:\n",
    "   print('验证失败')"
   ]
  },
  {
   "cell_type": "code",
   "execution_count": null,
   "metadata": {},
   "outputs": [],
   "source": []
  },
  {
   "cell_type": "code",
   "execution_count": null,
   "metadata": {},
   "outputs": [],
   "source": []
  },
  {
   "cell_type": "markdown",
   "metadata": {},
   "source": [
    "$$f(x)=\\begin{cases} 3x-5&\\text{(x>1)}\\x+2&\\text{(-1}\\leq\\text{x}\\leq\\text{1)}\\5x+3&\\text {(x<-1)}\\end{cases}$$"
   ]
  },
  {
   "cell_type": "code",
   "execution_count": null,
   "metadata": {},
   "outputs": [],
   "source": []
  },
  {
   "cell_type": "code",
   "execution_count": null,
   "metadata": {},
   "outputs": [],
   "source": [
    "'''\n",
    "分段函数求值\n",
    "\n",
    "        3x - 5  (x > 1)\n",
    "f(x) =  x + 2   (-1 <= x <= 1)\n",
    "        5x + 3  (x < -1)\n",
    "\n",
    "name：kongmingdenger\n",
    "time：20191016\n",
    "\n",
    "'''\n",
    "\n",
    "x = float(input('x='))\n",
    "\n",
    "if x > 1:\n",
    "   y =  3x - 5  (x > 1)\n",
    "elif x >= -1\n",
    "   y= 5x + 3\n",
    "else:\n",
    "   y= 5x + 3\n",
    "\n",
    "print('f(%.2f)=%.2f' %(x,y))\n"
   ]
  },
  {
   "cell_type": "code",
   "execution_count": null,
   "metadata": {},
   "outputs": [],
   "source": [
    "'''\n",
    "另外一种表达方式\n",
    "\n",
    "name：kongmingdenger\n",
    "time:20191016\n",
    "\n",
    "'''\n",
    "\n",
    "x = float(input('x='))\n",
    "\n",
    "if x > 1:\n",
    "   y =  3x - 5  (x > 1)\n",
    "else:\n",
    "   if\n",
    "   y= 5x + 3\n",
    "\n",
    "print('f(%.2f)=%.2f' %(x,y))\n",
    "\n",
    "\n",
    "\n"
   ]
  },
  {
   "cell_type": "code",
   "execution_count": null,
   "metadata": {},
   "outputs": [],
   "source": []
  },
  {
   "cell_type": "code",
   "execution_count": null,
   "metadata": {},
   "outputs": [],
   "source": []
  },
  {
   "cell_type": "code",
   "execution_count": null,
   "metadata": {},
   "outputs": [],
   "source": []
  }
 ],
 "metadata": {
  "kernelspec": {
   "display_name": "Python 3",
   "language": "python",
   "name": "python3"
  },
  "language_info": {
   "codemirror_mode": {
    "name": "ipython",
    "version": 3
   },
   "file_extension": ".py",
   "mimetype": "text/x-python",
   "name": "python",
   "nbconvert_exporter": "python",
   "pygments_lexer": "ipython3",
   "version": "3.7.1"
  }
 },
 "nbformat": 4,
 "nbformat_minor": 2
}
