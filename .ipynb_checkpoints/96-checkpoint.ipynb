{
 "cells": [
  {
   "cell_type": "markdown",
   "metadata": {},
   "source": [
    "### 面对对象编程"
   ]
  },
  {
   "cell_type": "markdown",
   "metadata": {},
   "source": [
    "#### 对象\n",
    "\n",
    "把一组数据结构和处理它们的方法组成对象（object），把相同行为的对象归纳为类（class），通过类的封装（encapsulation）隐藏内部细节，通过继承（inheritance）实现类的特化（specialization）和泛化（generalization），通过多态（polymorphism）实现基于对象类型的动态分派。\"\n",
    "\n",
    "#### 类与对象的关系\n",
    "\n",
    "我们把对象中的静态特征和动态特征抽离出来，就定义为了一个类：\n",
    "\n",
    "  > **静态特征**：叫做属性（attribute）;  \n",
    "  > **动态特征**：叫做行为，也叫做方法（method）;    \n",
    "\n",
    "类= 属性 + 行为\n",
    "\n",
    "#### 类、属性、实例的关系\n",
    "\n",
    "可以参考廖雪峰教程，讲得是听清楚的。[廖雪峰python教程]（https://www.liaoxuefeng.com/wiki/897692888725344/923030500932512）\n",
    "\n",
    "> 类是一个比较大大抽象的概念，通过__int__绑定self自身必须的属性，这样这个类就拥有类基本必要的属性。  \n",
    "> 例如创建了一个student（object），这样我们就创建了一个student类，同时继承了圆括号里面的类的属性，一般情况下没有合适的继承类，就直接写object。  \n",
    "> 实例：实例是对类的一个应用，bar=student（）这样就创建一个student类的实例，这个实例bar可以拥有自己的数据，可以直接调用类的method得出在类里面封装过的method。\n",
    "\n",
    "\n",
    "#### 定义类\n",
    "类= 属性 + 行为\n",
    "\n",
    "#### 面向对象的支柱\n",
    "\n",
    "面对对象有三大支柱：\n",
    " > **封装**：隐藏一切可以隐藏的细节，只向外界暴露（提供）简单的编程接口；在类中定义的方法其实就是把数据和数据的操作封装起来了，在我们创建了对象之后，只需要给对象发送一个消息（调用方法）就可以执行方法中的代码，也就是说我们只需要方法的名字和传入的参数（方法的外部试图），而不需要内部的实现细节（方法的内部视图）  \n",
    " > **继承**  （原来后面打两个空格就可以换行）   \n",
    " > **多态**  \n",
    "\n",
    "#### 访问权限\n",
    "\n",
    "给属性命名的时候使用双下划线开头，它就会成为一个private（私有变量），外部不能访问。但是python的世界里面是：We are all consenting adults here；所以是能够通过其他方式来达到访问的目的，比如定义一个新method等于私有变量，然后print这个新method，那么就可以达到访问变量的目的了：\n",
    "\n",
    "#### 继承与多态\n",
    "\n",
    "当我们定义一个class的时候，可以从某个现有的class继承，新的class称为子类（Subclass），而被继承的class称为基类、父类或超类（Base class、Super class）\n",
    "[廖雪峰视频]https://www.liaoxuefeng.com/wiki/1016959663602400/1017497232674368\n",
    "\n",
    "#### 实用：如何查看对象的method、object\n",
    "当我们拿到一个对象的引用时，如何知道这个对象是什么类型、有什么方法：\n",
    "> **使用type（）** 判断基本属性\n",
    ">> 查看基本的类型，可以判断出这个对象的基本类型，如：int、str、等等；同时也可以判断出变量指向的函数或者类。   \n",
    ">> 同时也可以将来个type（）进行布尔运算    \n",
    ">>  如何判断对象是否是函数，可以使用types模块中定义的常量：（这个还用不来，后面可以看下具体怎么运用）  \n",
    "\n",
    "> **使用isinstance()** 判断a是否属于b这个类型\n",
    ">> 我们如果使用type判断到这个对象是class类型，那可以使用isinstance对这个类型进行查看\n",
    ">> isinstance的表达式：isinstace(a,b)表示a是否是b的子类型。\n",
    "\n",
    "> **使用dir()** 获取这个对象的所有object、method； \n",
    ">> 使用dir（）可以获得对象所有的属性和方法，\n",
    ">> 通过dir（）将对象的属性和方法罗列出来后，再配合getattr（）、setattr()以及hasattr()，我们可以直接操作一个对象的状态  \n",
    ">> *这个对象里面是否有属性X*：hasattr（obj,'x'）  \n",
    ">> *在这个对象里面设置一个新属性y,并对y赋值9*：setattr(obj,'y',19)     \n",
    ">> *获取这个对象里面y的值*：getattr(obj,'y')   \n",
    "\n"
   ]
  },
  {
   "cell_type": "code",
   "execution_count": null,
   "metadata": {},
   "outputs": [],
   "source": []
  },
  {
   "cell_type": "code",
   "execution_count": null,
   "metadata": {},
   "outputs": [],
   "source": []
  },
  {
   "cell_type": "code",
   "execution_count": 2,
   "metadata": {},
   "outputs": [],
   "source": [
    "'''\n",
    "创建一个类student\n",
    "定义这个类的属性：name、age\n",
    "定义这个类的行为：study、watch_movie\n",
    "\n",
    "'''\n",
    "\n",
    "\n",
    "\n",
    "class Student(object):\n",
    "    \n",
    "\n",
    "    # __init__是一个特殊方法用于在创建对象时进行初始化操作\n",
    "    # 通过这个方法我们可以为学生对象绑定name和age两个属性\n",
    "    def __init__(self, name, age):\n",
    "        self.name = name\n",
    "        self.age = age\n",
    "        \n",
    "        \n",
    "\n",
    "    def study(self, course_name):\n",
    "        print('%s正在学习%s.' % (self.name, course_name))\n",
    "\n",
    "    # PEP 8要求标识符的名字用全小写多个单词用下划线连接\n",
    "    # 但是部分程序员和公司更倾向于使用驼峰命名法(驼峰标识)\n",
    "    def watch_movie(self):\n",
    "        if self.age < 18:\n",
    "            print('%s只能观看《熊出没》.' % self.name)\n",
    "        else:\n",
    "            print('%s正在观看岛国爱情大电影.' % self.name)"
   ]
  },
  {
   "cell_type": "code",
   "execution_count": 3,
   "metadata": {},
   "outputs": [
    {
     "name": "stdout",
     "output_type": "stream",
     "text": [
      "骆昊正在学习Python程序设计.\n",
      "骆昊正在观看岛国爱情大电影.\n",
      "王大锤正在学习思想品德.\n",
      "王大锤只能观看《熊出没》.\n"
     ]
    }
   ],
   "source": [
    "'''\n",
    "创建学生对象并指定姓名和年龄\n",
    "\n",
    "'''\n",
    "\n",
    "def main():\n",
    "    # 创建学生对象并指定姓名和年龄\n",
    "    stu1 = Student('骆昊', 38)\n",
    "    # 给对象发study消息\n",
    "    stu1.study('Python程序设计')\n",
    "    # 给对象发watch_av消息\n",
    "    stu1.watch_movie()\n",
    "    stu2 = Student('王大锤', 15)\n",
    "    stu2.study('思想品德')\n",
    "    stu2.watch_movie()\n",
    "\n",
    "\n",
    "if __name__ == '__main__':\n",
    "    main()"
   ]
  },
  {
   "cell_type": "code",
   "execution_count": 4,
   "metadata": {},
   "outputs": [
    {
     "ename": "AttributeError",
     "evalue": "'Test' object has no attribute '__bar'",
     "output_type": "error",
     "traceback": [
      "\u001b[0;31m---------------------------------------------------------------------------\u001b[0m",
      "\u001b[0;31mAttributeError\u001b[0m                            Traceback (most recent call last)",
      "\u001b[0;32m<ipython-input-4-145299b037ba>\u001b[0m in \u001b[0;36m<module>\u001b[0;34m\u001b[0m\n\u001b[1;32m     23\u001b[0m \u001b[0;34m\u001b[0m\u001b[0m\n\u001b[1;32m     24\u001b[0m \u001b[0;32mif\u001b[0m \u001b[0m__name__\u001b[0m \u001b[0;34m==\u001b[0m \u001b[0;34m\"__main__\"\u001b[0m\u001b[0;34m:\u001b[0m\u001b[0;34m\u001b[0m\u001b[0;34m\u001b[0m\u001b[0m\n\u001b[0;32m---> 25\u001b[0;31m     \u001b[0mmain\u001b[0m\u001b[0;34m(\u001b[0m\u001b[0;34m)\u001b[0m\u001b[0;34m\u001b[0m\u001b[0;34m\u001b[0m\u001b[0m\n\u001b[0m",
      "\u001b[0;32m<ipython-input-4-145299b037ba>\u001b[0m in \u001b[0;36mmain\u001b[0;34m()\u001b[0m\n\u001b[1;32m     17\u001b[0m     \u001b[0mtest\u001b[0m \u001b[0;34m=\u001b[0m \u001b[0mTest\u001b[0m\u001b[0;34m(\u001b[0m\u001b[0;34m'hello'\u001b[0m\u001b[0;34m)\u001b[0m\u001b[0;34m\u001b[0m\u001b[0;34m\u001b[0m\u001b[0m\n\u001b[1;32m     18\u001b[0m     \u001b[0;31m# AttributeError: 'Test' object has no attribute '__bar'\u001b[0m\u001b[0;34m\u001b[0m\u001b[0;34m\u001b[0m\u001b[0;34m\u001b[0m\u001b[0m\n\u001b[0;32m---> 19\u001b[0;31m     \u001b[0mtest\u001b[0m\u001b[0;34m.\u001b[0m\u001b[0m__bar\u001b[0m\u001b[0;34m(\u001b[0m\u001b[0;34m)\u001b[0m\u001b[0;34m\u001b[0m\u001b[0;34m\u001b[0m\u001b[0m\n\u001b[0m\u001b[1;32m     20\u001b[0m     \u001b[0;31m# AttributeError: 'Test' object has no attribute '__foo'\u001b[0m\u001b[0;34m\u001b[0m\u001b[0;34m\u001b[0m\u001b[0;34m\u001b[0m\u001b[0m\n\u001b[1;32m     21\u001b[0m     \u001b[0mprint\u001b[0m\u001b[0;34m(\u001b[0m\u001b[0mtest\u001b[0m\u001b[0;34m.\u001b[0m\u001b[0m__foo\u001b[0m\u001b[0;34m)\u001b[0m\u001b[0;34m\u001b[0m\u001b[0;34m\u001b[0m\u001b[0m\n",
      "\u001b[0;31mAttributeError\u001b[0m: 'Test' object has no attribute '__bar'"
     ]
    }
   ],
   "source": [
    "'''\n",
    "属性命名区分私有变量和常规变量\n",
    "命名时开头用两个下划线就是私有变量，作用域仅仅在这一个代码块\n",
    "\n",
    "'''\n",
    "\n",
    "class Test:\n",
    "\n",
    "    def __init__(self, foo):\n",
    "        self.__foo = foo\n",
    "\n",
    "    def __bar(self):\n",
    "        print(self.__foo)\n",
    "        print('__bar')\n",
    "\n",
    "\n",
    "def main():\n",
    "    test = Test('hello')\n",
    "    # AttributeError: 'Test' object has no attribute '__bar'\n",
    "    test.__bar()\n",
    "    # AttributeError: 'Test' object has no attribute '__foo'\n",
    "    print(test.__foo)\n",
    "\n",
    "\n",
    "if __name__ == \"__main__\":\n",
    "    main()"
   ]
  },
  {
   "cell_type": "code",
   "execution_count": 5,
   "metadata": {},
   "outputs": [
    {
     "name": "stdout",
     "output_type": "stream",
     "text": [
      "hello\n",
      "__bar\n",
      "hello\n"
     ]
    }
   ],
   "source": [
    "class Test:\n",
    "\n",
    "    def __init__(self, foo):\n",
    "        self.__foo = foo\n",
    "\n",
    "    def __bar(self):\n",
    "        print(self.__foo)\n",
    "        print('__bar')\n",
    "\n",
    "\n",
    "def main():\n",
    "    test = Test('hello')\n",
    "    test._Test__bar()    # 将上一个例子中的__bar改为了_test__bar\n",
    "    print(test._Test__foo)\n",
    "\n",
    "\n",
    "if __name__ == \"__main__\":\n",
    "    main()"
   ]
  },
  {
   "cell_type": "markdown",
   "metadata": {},
   "source": [
    "### 面对对象进阶\n",
    "\n",
    "面对对象编程的进一步了解\n",
    "\n",
    "#### 使用slots\n",
    "\n",
    "> **在什么情况下会用到__slots__** ：如果我们在定义类的时候，想限制对应的实例可以添加的属性，则可以使用__slots__(即，只有slots规定的属性才能被实例所绑定)\n",
    "\n",
    "\n",
    "#### 使用@property\n",
    "\n",
    "这个叫做装饰器，实现的功能是将（方法）method变成了（属性）attribute，\n",
    "\n",
    "> **在什么情况下会用到**：  上一节讲到可以使用__slots__对属性进行限制，而这里的装饰器则是对方法进行一定限制，方法的调用比较复杂，而属性的调用比较简单，因此就出现了装饰器，可以将方法编程属性，而后直接可以调用方法编程的属性。  \n",
    "\n",
    "> **如何使用** \n",
    ">> 把一个getter方法变成属性只需要加上@property就行了。  \n",
    ">>    \n",
    ">> 此时，@property本身又创建了另一个装饰器@score.setter，负责把一个setter方法变成属性赋值，于是，我们就拥有一个可控的属性操作：\n",
    ">>   \n",
    ">> 作用：@property广泛应用在类的定义中，可以让调用者写出简短的代码，同时保证对参数进行必要的检查，这样，程序运行时就减少了出错的可能性。  \n",
    "\n",
    "\n"
   ]
  },
  {
   "cell_type": "code",
   "execution_count": null,
   "metadata": {},
   "outputs": [],
   "source": []
  },
  {
   "cell_type": "code",
   "execution_count": 4,
   "metadata": {},
   "outputs": [],
   "source": [
    "class Student(object):\n",
    "\n",
    "    @property\n",
    "    def score(self):\n",
    "        return self._score\n",
    "\n",
    "    @score.setter\n",
    "    def score(self, value):\n",
    "        if not isinstance(value, int):\n",
    "            raise ValueError('score must be an integer!')\n",
    "        if value < 0 or value > 100:\n",
    "            raise ValueError('score must between 0 ~ 100!')\n",
    "        self._score = value"
   ]
  },
  {
   "cell_type": "code",
   "execution_count": null,
   "metadata": {},
   "outputs": [],
   "source": [
    "'''\n",
    "练习：利用@property给一个Screen对象加上width和height属性，\n",
    "以及一个只读属性resolution：\n",
    "\n",
    "'''\n",
    "\n",
    "class Screen(object):\n",
    "    pass\n",
    "\n",
    "\n",
    "\n",
    "\n"
   ]
  },
  {
   "cell_type": "code",
   "execution_count": 5,
   "metadata": {},
   "outputs": [
    {
     "name": "stdout",
     "output_type": "stream",
     "text": [
      "王大锤正在玩飞行棋.\n",
      "王大锤正在玩斗地主.\n"
     ]
    }
   ],
   "source": [
    "class Person(object):\n",
    "\n",
    "    def __init__(self, name, age):\n",
    "        self._name = name\n",
    "        self._age = age\n",
    "\n",
    "   \n",
    "    @property         # 访问器 - getter方法\n",
    "    def name(self):\n",
    "        return self._name\n",
    "\n",
    "   \n",
    "    @property         # 访问器 - getter方法\n",
    "    def age(self):\n",
    "        return self._age\n",
    "\n",
    "    \n",
    "    @age.setter      # 修改器 - setter方法\n",
    "    def age(self, age):\n",
    "        self._age = age\n",
    "\n",
    "    def play(self):  #未修饰\n",
    "        if self._age <= 16:\n",
    "            print('%s正在玩飞行棋.' % self._name)\n",
    "        else:\n",
    "            print('%s正在玩斗地主.' % self._name)\n",
    "\n",
    "\n",
    "def main():\n",
    "    person = Person('王大锤', 12)  #\n",
    "    person.play()\n",
    "    person.age = 22\n",
    "    person.play()\n",
    "    # person.name = '白元芳'  # AttributeError: can't set attribute\n",
    "\n",
    "\n",
    "if __name__ == '__main__':  \n",
    "    main()"
   ]
  },
  {
   "cell_type": "code",
   "execution_count": 11,
   "metadata": {},
   "outputs": [
    {
     "name": "stdout",
     "output_type": "stream",
     "text": [
      "王大锤正在玩斗地主.\n",
      "王大锤正在玩斗地主.\n"
     ]
    }
   ],
   "source": [
    "'''\n",
    "\n",
    "‘__slots__’magic\n",
    "\n",
    "'''\n",
    "\n",
    "class Person(object):\n",
    "\n",
    "   \n",
    "    __slots__ = ('_name', '_age', '_gender')  # 限定Person对象只能绑定_name, _age和_gender属性\n",
    "\n",
    "    def __init__(self, name, age):\n",
    "        self._name = name\n",
    "        self._age = age\n",
    "\n",
    "    @property\n",
    "    def name(self):\n",
    "        return self._name\n",
    "\n",
    "    @property\n",
    "    def age(self):\n",
    "        return self._age\n",
    "\n",
    "    @age.setter\n",
    "    def age(self, age):\n",
    "        self._age = age\n",
    "\n",
    "    def play(self):\n",
    "        if self._age <= 16:\n",
    "            print('%s正在玩飞行棋.' % self._name)\n",
    "        else:\n",
    "            print('%s正在玩斗地主.' % self._name)\n",
    "\n",
    "\n",
    "def main():\n",
    "    person = Person('王大锤', 22)\n",
    "    person.play()\n",
    "    person._gender = '男'\n",
    "    person.play()\n",
    "    # AttributeError: 'Person' object has no attribute '_is_gay'\n",
    "    # person._is_gay = True\n",
    "    \n",
    "if __name__ == '__main__':  \n",
    "    main()"
   ]
  },
  {
   "cell_type": "markdown",
   "metadata": {},
   "source": [
    "#### 静态方法和类方法\n",
    "\n",
    "就是当我们使用这个对象之前，可能需要了解下我这些数据能不能使用这个对象，就比如我使用一个创建三角形的对象，但是我的三条边可能并不能组成一个三角形，所以就需要临时写一个东东（也叫做类）来先判断下，能组成三角形了，我再去使用三角行的对象。\n",
    "\n",
    "#### 类与类之间的关系\n",
    "类与类之间有三种关系：is-a,has-a,use-a\n",
    ">  - **is-a** : 继承或泛化  \n",
    ">  - **has-a** :  关联关系，关联关系中又分为聚合关系与合成关系  \n",
    ">  - **use-a** : 依赖关系，\n",
    "\n",
    "#### 继承和多态\n",
    "\n",
    "廖雪峰那个地方已经讲到了\n",
    "\n",
    "#### 多重继承\n",
    "\n",
    "多重继承这个地方廖雪峰的教程讲得非常好，我就不单独写了，直接以后要看就跳转过去看。\n",
    "[廖雪峰讲多重继承]https://www.liaoxuefeng.com/wiki/1016959663602400/1017502939956896\n",
    "\n"
   ]
  },
  {
   "cell_type": "code",
   "execution_count": null,
   "metadata": {},
   "outputs": [],
   "source": []
  },
  {
   "cell_type": "code",
   "execution_count": null,
   "metadata": {},
   "outputs": [],
   "source": []
  },
  {
   "cell_type": "code",
   "execution_count": null,
   "metadata": {},
   "outputs": [],
   "source": []
  },
  {
   "cell_type": "code",
   "execution_count": null,
   "metadata": {},
   "outputs": [],
   "source": []
  }
 ],
 "metadata": {
  "kernelspec": {
   "display_name": "Python 3",
   "language": "python",
   "name": "python3"
  },
  "language_info": {
   "codemirror_mode": {
    "name": "ipython",
    "version": 3
   },
   "file_extension": ".py",
   "mimetype": "text/x-python",
   "name": "python",
   "nbconvert_exporter": "python",
   "pygments_lexer": "ipython3",
   "version": "3.7.1"
  }
 },
 "nbformat": 4,
 "nbformat_minor": 2
}
