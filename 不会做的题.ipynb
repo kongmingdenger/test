{
 "cells": [
  {
   "cell_type": "code",
   "execution_count": null,
   "metadata": {},
   "outputs": [],
   "source": []
  },
  {
   "cell_type": "code",
   "execution_count": 29,
   "metadata": {},
   "outputs": [
    {
     "name": "stdout",
     "output_type": "stream",
     "text": [
      "1*1=1\t\n",
      "2*1=2\t2*2=4\t\n",
      "3*1=3\t3*2=6\t3*3=9\t\n",
      "4*1=4\t4*2=8\t4*3=12\t4*4=16\t\n",
      "5*1=5\t5*2=10\t5*3=15\t5*4=20\t5*5=25\t\n",
      "6*1=6\t6*2=12\t6*3=18\t6*4=24\t6*5=30\t6*6=36\t\n",
      "7*1=7\t7*2=14\t7*3=21\t7*4=28\t7*5=35\t7*6=42\t7*7=49\t\n",
      "8*1=8\t8*2=16\t8*3=24\t8*4=32\t8*5=40\t8*6=48\t8*7=56\t8*8=64\t\n",
      "9*1=9\t9*2=18\t9*3=27\t9*4=36\t9*5=45\t9*6=54\t9*7=63\t9*8=72\t9*9=81\t\n"
     ]
    }
   ],
   "source": [
    "'''\n",
    "输出乘法口诀表（九九表）\n",
    "\n",
    "'''\n",
    "\n",
    "for i in range(1,10):\n",
    "    for j in range(1,i+1):\n",
    "        print('%d*%d=%d'%(i,j,i*j),end='\\t')\n",
    "    print()\n",
    "    \n"
   ]
  },
  {
   "cell_type": "code",
   "execution_count": 4,
   "metadata": {},
   "outputs": [
    {
     "data": {
      "text/plain": [
       "'\\n输入一个正整数判断是不是素数\\ntips：素数指的是只能被1和自身整除的大于1的整数\\n\\n'"
      ]
     },
     "execution_count": 4,
     "metadata": {},
     "output_type": "execute_result"
    }
   ],
   "source": [
    "'''\n",
    "输入一个正整数判断是不是素数\n",
    "tips：素数指的是只能被1和自身整除的大于1的整数\n",
    "\n",
    "tips:好像需要倒入数学相关的模块来做这个事情，今天我还做不来\n",
    "\n",
    "'''\n",
    "\n",
    "x = int(input('请输入一个整数：'))\n",
    "if X\n",
    "\n",
    "\n"
   ]
  },
  {
   "cell_type": "code",
   "execution_count": 5,
   "metadata": {},
   "outputs": [
    {
     "data": {
      "text/plain": [
       "'\\n输入两个正整数，计算他们最大公约数和最小公倍数\\n\\n\\n'"
      ]
     },
     "execution_count": 5,
     "metadata": {},
     "output_type": "execute_result"
    }
   ],
   "source": [
    "'''\n",
    "输入两个正整数，计算他们最大公约数和最小公倍数\n",
    "\n",
    "啊，果然编程跟数学很想关，自己数学还挺差的呢\n",
    "\n",
    "'''\n",
    "\n",
    "\n"
   ]
  },
  {
   "cell_type": "code",
   "execution_count": null,
   "metadata": {},
   "outputs": [],
   "source": [
    "'''\n",
    "打印如下图所示的三角形图案\n",
    "\n",
    "*\n",
    "**\n",
    "***\n",
    "****\n",
    "*****\n",
    "\n",
    "    *\n",
    "   **\n",
    "  ***\n",
    " ****\n",
    "*****\n",
    "\n",
    "   *\n",
    "   ***\n",
    "  *****\n",
    " *******\n",
    "*********\n",
    "\n",
    "'''\n",
    "\n",
    "\n",
    "for i in range(1,6):\n",
    "    for j in range(1,i+1):\n",
    "        print('%d*%d=%d'%(i,j,i*j),end='\\t')\n",
    "    print()"
   ]
  },
  {
   "cell_type": "code",
   "execution_count": null,
   "metadata": {},
   "outputs": [],
   "source": [
    "\"\"\"\n",
    "如何利用上面的方式将数字进行反转\n",
    "如将12345变成54321\n",
    "\n",
    "\n",
    "\"\"\"\n",
    "\n",
    "num = int(input('num = '))\n",
    "reversed_num = 0       #这个案例没看懂呢\n",
    "while num > 0:\n",
    "    reversed_num = reversed_num * 10 + num % 10\n",
    "    num //= 10\n",
    "print(reversed_num)\n"
   ]
  },
  {
   "cell_type": "code",
   "execution_count": null,
   "metadata": {},
   "outputs": [],
   "source": []
  },
  {
   "cell_type": "code",
   "execution_count": null,
   "metadata": {},
   "outputs": [],
   "source": []
  },
  {
   "cell_type": "code",
   "execution_count": null,
   "metadata": {},
   "outputs": [],
   "source": [
    "'''\n",
    "恐怖的练习题又来了。\n",
    "1、生成斐波那契数列的前20个（我都不懂）\n",
    "\n",
    "说明：斐波那契数列（Fibonacci sequence），又称黄金分割数列，\n",
    "是意大利数学家莱昂纳多·斐波那契（Leonardoda Fibonacci）在《计算之书》中提出一个在理想假设\n",
    "条件下兔子成长率的问题而引入的数列，所以这个数列也被戏称为\"兔子数列\"。\n",
    "斐波那契数列的特点是数列的前两个数都是1，从第三个数开始，每个数都是它前面两个数的和，\n",
    "形如：1, 1, 2, 3, 5, 8, 13, 21, 34, 55, 89, 144, ...。\n",
    "斐波那契数列在现代物理、准晶体结构、化学等领域都有直接的应用。\n",
    "\n",
    "'''"
   ]
  },
  {
   "cell_type": "code",
   "execution_count": null,
   "metadata": {},
   "outputs": [],
   "source": []
  },
  {
   "cell_type": "code",
   "execution_count": null,
   "metadata": {},
   "outputs": [],
   "source": [
    "'''\n",
    "找出10000以内的完美数。\n",
    "\n",
    "说明：完美数又称为完全数或完备数，它的所有的真因子（即除了自身以外的因子）的和（即因子函数）恰好等于它本身。\n",
    "例如：6（$6=1+2+3$）和28（$28=1+2+4+7+14$）就是完美数。完美数有很多神奇的特性，有兴趣的可以自行了解。\n",
    "'''"
   ]
  },
  {
   "cell_type": "code",
   "execution_count": null,
   "metadata": {},
   "outputs": [],
   "source": []
  },
  {
   "cell_type": "code",
   "execution_count": null,
   "metadata": {},
   "outputs": [],
   "source": [
    "'''\n",
    "输出100以内所有的素数\n",
    "\n",
    "说明：素数指的是只能被1和自身整除的正整数（不包括1）。\n",
    "\n",
    "\n",
    "'''"
   ]
  },
  {
   "cell_type": "code",
   "execution_count": null,
   "metadata": {},
   "outputs": [],
   "source": []
  },
  {
   "cell_type": "code",
   "execution_count": null,
   "metadata": {},
   "outputs": [],
   "source": []
  }
 ],
 "metadata": {
  "kernelspec": {
   "display_name": "Python 3",
   "language": "python",
   "name": "python3"
  },
  "language_info": {
   "codemirror_mode": {
    "name": "ipython",
    "version": 3
   },
   "file_extension": ".py",
   "mimetype": "text/x-python",
   "name": "python",
   "nbconvert_exporter": "python",
   "pygments_lexer": "ipython3",
   "version": "3.7.1"
  }
 },
 "nbformat": 4,
 "nbformat_minor": 2
}
